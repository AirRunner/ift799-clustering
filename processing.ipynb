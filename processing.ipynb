{
 "cells": [
  {
   "cell_type": "code",
   "execution_count": 40,
   "metadata": {},
   "outputs": [],
   "source": [
    "import pandas as pd"
   ]
  },
  {
   "cell_type": "markdown",
   "metadata": {},
   "source": [
    "## Import data"
   ]
  },
  {
   "cell_type": "code",
   "execution_count": 2,
   "metadata": {},
   "outputs": [
    {
     "data": {
      "text/plain": [
       "(5221, 287)"
      ]
     },
     "execution_count": 2,
     "metadata": {},
     "output_type": "execute_result"
    }
   ],
   "source": [
    "df = pd.read_csv(\"data/res_2000.csv\", index_col='x')\n",
    "df.index = pd.to_datetime(df.index)\n",
    "df.shape"
   ]
  },
  {
   "cell_type": "markdown",
   "metadata": {},
   "source": [
    "Keep at least 1260 days and 100 attributs"
   ]
  },
  {
   "cell_type": "code",
   "execution_count": 3,
   "metadata": {
    "scrolled": false
   },
   "outputs": [
    {
     "data": {
      "text/html": [
       "<div>\n",
       "<style scoped>\n",
       "    .dataframe tbody tr th:only-of-type {\n",
       "        vertical-align: middle;\n",
       "    }\n",
       "\n",
       "    .dataframe tbody tr th {\n",
       "        vertical-align: top;\n",
       "    }\n",
       "\n",
       "    .dataframe thead th {\n",
       "        text-align: right;\n",
       "    }\n",
       "</style>\n",
       "<table border=\"1\" class=\"dataframe\">\n",
       "  <thead>\n",
       "    <tr style=\"text-align: right;\">\n",
       "      <th></th>\n",
       "      <th>FPX1</th>\n",
       "      <th>SHCP</th>\n",
       "      <th>SPXX</th>\n",
       "      <th>SX5P</th>\n",
       "      <th>A.CWI</th>\n",
       "      <th>A.XUS</th>\n",
       "      <th>AUD.</th>\n",
       "      <th>BBG.</th>\n",
       "      <th>BBG.9</th>\n",
       "      <th>BBG.G</th>\n",
       "      <th>...</th>\n",
       "      <th>FDCPX</th>\n",
       "      <th>HSI</th>\n",
       "      <th>GSPTSE</th>\n",
       "      <th>GOLDPMGBD228NLBM</th>\n",
       "      <th>WILL4500IND</th>\n",
       "      <th>WILL4500PR</th>\n",
       "      <th>WILL5000IND</th>\n",
       "      <th>WILL5000INDFC</th>\n",
       "      <th>WILL5000PR</th>\n",
       "      <th>WILL5000PRFC</th>\n",
       "    </tr>\n",
       "    <tr>\n",
       "      <th>x</th>\n",
       "      <th></th>\n",
       "      <th></th>\n",
       "      <th></th>\n",
       "      <th></th>\n",
       "      <th></th>\n",
       "      <th></th>\n",
       "      <th></th>\n",
       "      <th></th>\n",
       "      <th></th>\n",
       "      <th></th>\n",
       "      <th></th>\n",
       "      <th></th>\n",
       "      <th></th>\n",
       "      <th></th>\n",
       "      <th></th>\n",
       "      <th></th>\n",
       "      <th></th>\n",
       "      <th></th>\n",
       "      <th></th>\n",
       "      <th></th>\n",
       "      <th></th>\n",
       "    </tr>\n",
       "  </thead>\n",
       "  <tbody>\n",
       "    <tr>\n",
       "      <th>2000-12-29</th>\n",
       "      <td>5926.42</td>\n",
       "      <td>2073.48</td>\n",
       "      <td>359.79</td>\n",
       "      <td>4557.13</td>\n",
       "      <td>100.00</td>\n",
       "      <td>100.00</td>\n",
       "      <td>0.556</td>\n",
       "      <td>930.68</td>\n",
       "      <td>1031.64</td>\n",
       "      <td>1052.19</td>\n",
       "      <td>...</td>\n",
       "      <td>48.034107</td>\n",
       "      <td>15095.53027</td>\n",
       "      <td>8933.700195</td>\n",
       "      <td>274.45</td>\n",
       "      <td>5.44</td>\n",
       "      <td>415.27</td>\n",
       "      <td>39.80</td>\n",
       "      <td>39.80</td>\n",
       "      <td>12175.88</td>\n",
       "      <td>12175.88</td>\n",
       "    </tr>\n",
       "    <tr>\n",
       "      <th>2001-01-02</th>\n",
       "      <td>5798.90</td>\n",
       "      <td>2103.47</td>\n",
       "      <td>354.83</td>\n",
       "      <td>4492.27</td>\n",
       "      <td>98.50</td>\n",
       "      <td>99.55</td>\n",
       "      <td>0.559</td>\n",
       "      <td>938.84</td>\n",
       "      <td>1041.97</td>\n",
       "      <td>1062.98</td>\n",
       "      <td>...</td>\n",
       "      <td>43.306885</td>\n",
       "      <td>14869.94043</td>\n",
       "      <td>8611.500000</td>\n",
       "      <td>271.10</td>\n",
       "      <td>5.14</td>\n",
       "      <td>392.67</td>\n",
       "      <td>38.46</td>\n",
       "      <td>38.46</td>\n",
       "      <td>11763.92</td>\n",
       "      <td>11763.92</td>\n",
       "    </tr>\n",
       "    <tr>\n",
       "      <th>2001-01-03</th>\n",
       "      <td>5684.05</td>\n",
       "      <td>2123.90</td>\n",
       "      <td>351.38</td>\n",
       "      <td>4456.97</td>\n",
       "      <td>100.52</td>\n",
       "      <td>98.95</td>\n",
       "      <td>0.563</td>\n",
       "      <td>933.62</td>\n",
       "      <td>1035.56</td>\n",
       "      <td>1055.14</td>\n",
       "      <td>...</td>\n",
       "      <td>51.329395</td>\n",
       "      <td>14589.58008</td>\n",
       "      <td>8937.799805</td>\n",
       "      <td>267.15</td>\n",
       "      <td>5.46</td>\n",
       "      <td>416.89</td>\n",
       "      <td>40.48</td>\n",
       "      <td>40.48</td>\n",
       "      <td>12380.26</td>\n",
       "      <td>12380.26</td>\n",
       "    </tr>\n",
       "    <tr>\n",
       "      <th>2001-01-04</th>\n",
       "      <td>5815.99</td>\n",
       "      <td>2117.41</td>\n",
       "      <td>356.54</td>\n",
       "      <td>4534.10</td>\n",
       "      <td>100.67</td>\n",
       "      <td>100.32</td>\n",
       "      <td>0.565</td>\n",
       "      <td>938.37</td>\n",
       "      <td>1041.96</td>\n",
       "      <td>1061.03</td>\n",
       "      <td>...</td>\n",
       "      <td>51.109100</td>\n",
       "      <td>15235.03027</td>\n",
       "      <td>8905.700195</td>\n",
       "      <td>267.10</td>\n",
       "      <td>5.36</td>\n",
       "      <td>409.75</td>\n",
       "      <td>39.97</td>\n",
       "      <td>39.97</td>\n",
       "      <td>12224.42</td>\n",
       "      <td>12224.42</td>\n",
       "    </tr>\n",
       "    <tr>\n",
       "      <th>2001-01-05</th>\n",
       "      <td>5758.02</td>\n",
       "      <td>2125.30</td>\n",
       "      <td>355.10</td>\n",
       "      <td>4503.22</td>\n",
       "      <td>99.47</td>\n",
       "      <td>100.50</td>\n",
       "      <td>0.571</td>\n",
       "      <td>943.45</td>\n",
       "      <td>1048.96</td>\n",
       "      <td>1067.27</td>\n",
       "      <td>...</td>\n",
       "      <td>47.097843</td>\n",
       "      <td>15447.61035</td>\n",
       "      <td>8690.200195</td>\n",
       "      <td>267.40</td>\n",
       "      <td>5.16</td>\n",
       "      <td>393.93</td>\n",
       "      <td>38.82</td>\n",
       "      <td>38.82</td>\n",
       "      <td>11872.66</td>\n",
       "      <td>11872.66</td>\n",
       "    </tr>\n",
       "    <tr>\n",
       "      <th>...</th>\n",
       "      <td>...</td>\n",
       "      <td>...</td>\n",
       "      <td>...</td>\n",
       "      <td>...</td>\n",
       "      <td>...</td>\n",
       "      <td>...</td>\n",
       "      <td>...</td>\n",
       "      <td>...</td>\n",
       "      <td>...</td>\n",
       "      <td>...</td>\n",
       "      <td>...</td>\n",
       "      <td>...</td>\n",
       "      <td>...</td>\n",
       "      <td>...</td>\n",
       "      <td>...</td>\n",
       "      <td>...</td>\n",
       "      <td>...</td>\n",
       "      <td>...</td>\n",
       "      <td>...</td>\n",
       "      <td>...</td>\n",
       "      <td>...</td>\n",
       "    </tr>\n",
       "    <tr>\n",
       "      <th>2021-03-17</th>\n",
       "      <td>6054.82</td>\n",
       "      <td>3445.55</td>\n",
       "      <td>424.91</td>\n",
       "      <td>3282.11</td>\n",
       "      <td>345.32</td>\n",
       "      <td>290.16</td>\n",
       "      <td>0.777</td>\n",
       "      <td>2311.76</td>\n",
       "      <td>3046.35</td>\n",
       "      <td>2673.06</td>\n",
       "      <td>...</td>\n",
       "      <td>117.470001</td>\n",
       "      <td>29034.11914</td>\n",
       "      <td>18983.099610</td>\n",
       "      <td>1729.65</td>\n",
       "      <td>39.22</td>\n",
       "      <td>2239.97</td>\n",
       "      <td>198.70</td>\n",
       "      <td>200.15</td>\n",
       "      <td>41740.28</td>\n",
       "      <td>42154.70</td>\n",
       "    </tr>\n",
       "    <tr>\n",
       "      <th>2021-03-18</th>\n",
       "      <td>6062.79</td>\n",
       "      <td>3463.07</td>\n",
       "      <td>426.59</td>\n",
       "      <td>3296.68</td>\n",
       "      <td>342.92</td>\n",
       "      <td>291.90</td>\n",
       "      <td>0.777</td>\n",
       "      <td>2304.57</td>\n",
       "      <td>3038.96</td>\n",
       "      <td>2663.49</td>\n",
       "      <td>...</td>\n",
       "      <td>115.360001</td>\n",
       "      <td>29405.72070</td>\n",
       "      <td>18836.500000</td>\n",
       "      <td>1725.90</td>\n",
       "      <td>38.16</td>\n",
       "      <td>2179.18</td>\n",
       "      <td>195.33</td>\n",
       "      <td>196.45</td>\n",
       "      <td>41031.14</td>\n",
       "      <td>41373.33</td>\n",
       "    </tr>\n",
       "    <tr>\n",
       "      <th>2021-03-19</th>\n",
       "      <td>5997.96</td>\n",
       "      <td>3404.66</td>\n",
       "      <td>423.35</td>\n",
       "      <td>3276.68</td>\n",
       "      <td>341.93</td>\n",
       "      <td>289.84</td>\n",
       "      <td>0.777</td>\n",
       "      <td>2305.61</td>\n",
       "      <td>3037.98</td>\n",
       "      <td>2666.42</td>\n",
       "      <td>...</td>\n",
       "      <td>115.580002</td>\n",
       "      <td>28990.93945</td>\n",
       "      <td>18854.000000</td>\n",
       "      <td>1735.20</td>\n",
       "      <td>38.41</td>\n",
       "      <td>2193.44</td>\n",
       "      <td>195.49</td>\n",
       "      <td>196.80</td>\n",
       "      <td>41061.42</td>\n",
       "      <td>41443.13</td>\n",
       "    </tr>\n",
       "    <tr>\n",
       "      <th>2021-03-22</th>\n",
       "      <td>5968.48</td>\n",
       "      <td>3443.44</td>\n",
       "      <td>424.17</td>\n",
       "      <td>3283.03</td>\n",
       "      <td>343.34</td>\n",
       "      <td>289.74</td>\n",
       "      <td>0.777</td>\n",
       "      <td>2311.42</td>\n",
       "      <td>3042.46</td>\n",
       "      <td>2674.59</td>\n",
       "      <td>...</td>\n",
       "      <td>116.980003</td>\n",
       "      <td>28885.33984</td>\n",
       "      <td>18815.099610</td>\n",
       "      <td>1736.15</td>\n",
       "      <td>38.33</td>\n",
       "      <td>2188.65</td>\n",
       "      <td>196.59</td>\n",
       "      <td>197.88</td>\n",
       "      <td>41292.93</td>\n",
       "      <td>41670.69</td>\n",
       "    </tr>\n",
       "    <tr>\n",
       "      <th>2021-03-23</th>\n",
       "      <td>5945.30</td>\n",
       "      <td>3411.51</td>\n",
       "      <td>423.31</td>\n",
       "      <td>3276.26</td>\n",
       "      <td>340.63</td>\n",
       "      <td>287.43</td>\n",
       "      <td>0.777</td>\n",
       "      <td>2317.37</td>\n",
       "      <td>3047.49</td>\n",
       "      <td>2682.52</td>\n",
       "      <td>...</td>\n",
       "      <td>114.690002</td>\n",
       "      <td>28497.38086</td>\n",
       "      <td>18669.800780</td>\n",
       "      <td>1726.20</td>\n",
       "      <td>37.26</td>\n",
       "      <td>2127.93</td>\n",
       "      <td>194.49</td>\n",
       "      <td>195.61</td>\n",
       "      <td>40851.49</td>\n",
       "      <td>41192.85</td>\n",
       "    </tr>\n",
       "  </tbody>\n",
       "</table>\n",
       "<p>5221 rows × 287 columns</p>\n",
       "</div>"
      ],
      "text/plain": [
       "               FPX1     SHCP    SPXX     SX5P   A.CWI   A.XUS   AUD.     BBG.  \\\n",
       "x                                                                               \n",
       "2000-12-29  5926.42  2073.48  359.79  4557.13  100.00  100.00  0.556   930.68   \n",
       "2001-01-02  5798.90  2103.47  354.83  4492.27   98.50   99.55  0.559   938.84   \n",
       "2001-01-03  5684.05  2123.90  351.38  4456.97  100.52   98.95  0.563   933.62   \n",
       "2001-01-04  5815.99  2117.41  356.54  4534.10  100.67  100.32  0.565   938.37   \n",
       "2001-01-05  5758.02  2125.30  355.10  4503.22   99.47  100.50  0.571   943.45   \n",
       "...             ...      ...     ...      ...     ...     ...    ...      ...   \n",
       "2021-03-17  6054.82  3445.55  424.91  3282.11  345.32  290.16  0.777  2311.76   \n",
       "2021-03-18  6062.79  3463.07  426.59  3296.68  342.92  291.90  0.777  2304.57   \n",
       "2021-03-19  5997.96  3404.66  423.35  3276.68  341.93  289.84  0.777  2305.61   \n",
       "2021-03-22  5968.48  3443.44  424.17  3283.03  343.34  289.74  0.777  2311.42   \n",
       "2021-03-23  5945.30  3411.51  423.31  3276.26  340.63  287.43  0.777  2317.37   \n",
       "\n",
       "              BBG.9    BBG.G  ...       FDCPX          HSI        GSPTSE  \\\n",
       "x                             ...                                          \n",
       "2000-12-29  1031.64  1052.19  ...   48.034107  15095.53027   8933.700195   \n",
       "2001-01-02  1041.97  1062.98  ...   43.306885  14869.94043   8611.500000   \n",
       "2001-01-03  1035.56  1055.14  ...   51.329395  14589.58008   8937.799805   \n",
       "2001-01-04  1041.96  1061.03  ...   51.109100  15235.03027   8905.700195   \n",
       "2001-01-05  1048.96  1067.27  ...   47.097843  15447.61035   8690.200195   \n",
       "...             ...      ...  ...         ...          ...           ...   \n",
       "2021-03-17  3046.35  2673.06  ...  117.470001  29034.11914  18983.099610   \n",
       "2021-03-18  3038.96  2663.49  ...  115.360001  29405.72070  18836.500000   \n",
       "2021-03-19  3037.98  2666.42  ...  115.580002  28990.93945  18854.000000   \n",
       "2021-03-22  3042.46  2674.59  ...  116.980003  28885.33984  18815.099610   \n",
       "2021-03-23  3047.49  2682.52  ...  114.690002  28497.38086  18669.800780   \n",
       "\n",
       "            GOLDPMGBD228NLBM  WILL4500IND  WILL4500PR  WILL5000IND  \\\n",
       "x                                                                    \n",
       "2000-12-29            274.45         5.44      415.27        39.80   \n",
       "2001-01-02            271.10         5.14      392.67        38.46   \n",
       "2001-01-03            267.15         5.46      416.89        40.48   \n",
       "2001-01-04            267.10         5.36      409.75        39.97   \n",
       "2001-01-05            267.40         5.16      393.93        38.82   \n",
       "...                      ...          ...         ...          ...   \n",
       "2021-03-17           1729.65        39.22     2239.97       198.70   \n",
       "2021-03-18           1725.90        38.16     2179.18       195.33   \n",
       "2021-03-19           1735.20        38.41     2193.44       195.49   \n",
       "2021-03-22           1736.15        38.33     2188.65       196.59   \n",
       "2021-03-23           1726.20        37.26     2127.93       194.49   \n",
       "\n",
       "            WILL5000INDFC  WILL5000PR  WILL5000PRFC  \n",
       "x                                                    \n",
       "2000-12-29          39.80    12175.88      12175.88  \n",
       "2001-01-02          38.46    11763.92      11763.92  \n",
       "2001-01-03          40.48    12380.26      12380.26  \n",
       "2001-01-04          39.97    12224.42      12224.42  \n",
       "2001-01-05          38.82    11872.66      11872.66  \n",
       "...                   ...         ...           ...  \n",
       "2021-03-17         200.15    41740.28      42154.70  \n",
       "2021-03-18         196.45    41031.14      41373.33  \n",
       "2021-03-19         196.80    41061.42      41443.13  \n",
       "2021-03-22         197.88    41292.93      41670.69  \n",
       "2021-03-23         195.61    40851.49      41192.85  \n",
       "\n",
       "[5221 rows x 287 columns]"
      ]
     },
     "execution_count": 3,
     "metadata": {},
     "output_type": "execute_result"
    }
   ],
   "source": [
    "df"
   ]
  },
  {
   "cell_type": "markdown",
   "metadata": {},
   "source": [
    "Data from 2000-12-29 to 2021-03-23 (workdays)"
   ]
  },
  {
   "cell_type": "markdown",
   "metadata": {},
   "source": [
    "## Prepare data"
   ]
  },
  {
   "cell_type": "code",
   "execution_count": 4,
   "metadata": {},
   "outputs": [],
   "source": [
    "# Normalize series\n",
    "df_norm = (df - df.mean()) / df.std()"
   ]
  },
  {
   "cell_type": "code",
   "execution_count": 5,
   "metadata": {},
   "outputs": [
    {
     "data": {
      "text/plain": [
       "246"
      ]
     },
     "execution_count": 5,
     "metadata": {},
     "output_type": "execute_result"
    }
   ],
   "source": [
    "# Create 21 days windows (without superposition)\n",
    "def create_windows(df, window_size, window_shift=0):\n",
    "    if window_shift < 1:\n",
    "        window_shift = window_size\n",
    "    \n",
    "    dates = []\n",
    "    windows = []\n",
    "    i = 0\n",
    "    \n",
    "    while i <= df.shape[0] - window_size:\n",
    "        w = df.iloc[i:i + window_size]\n",
    "        dates.append(w.index[0])\n",
    "        windows.append(w.values.T)\n",
    "        \n",
    "        i += window_shift\n",
    "    \n",
    "    return dates, windows\n",
    "    \n",
    "dates, windows = create_windows(df_norm, 63, 21)\n",
    "len(windows)"
   ]
  },
  {
   "cell_type": "code",
   "execution_count": 6,
   "metadata": {},
   "outputs": [
    {
     "data": {
      "text/plain": [
       "array([[ 1.79576898,  1.64617587,  1.51144588, ...,  0.85539235,\n",
       "         0.9853713 ,  0.88545878],\n",
       "       [-0.51288297, -0.47904805, -0.45599878, ..., -0.49438038,\n",
       "        -0.47477214, -0.47521214],\n",
       "       [ 0.8218213 ,  0.74268662,  0.68764335, ...,  0.13928472,\n",
       "         0.24665899,  0.1810857 ],\n",
       "       ...,\n",
       "       [-0.78748239, -0.8212946 , -0.77032395, ..., -0.91591833,\n",
       "        -0.89522728, -0.91768464],\n",
       "       [-0.65475869, -0.70883757, -0.62792929, ..., -0.86257959,\n",
       "        -0.82974448, -0.86554765],\n",
       "       [-0.66754957, -0.72124273, -0.64091152, ..., -0.87388819,\n",
       "        -0.84128728, -0.87683509]])"
      ]
     },
     "execution_count": 6,
     "metadata": {},
     "output_type": "execute_result"
    }
   ],
   "source": [
    "windows[0]"
   ]
  },
  {
   "cell_type": "code",
   "execution_count": 7,
   "metadata": {},
   "outputs": [
    {
     "data": {
      "text/plain": [
       "Timestamp('2000-12-29 00:00:00')"
      ]
     },
     "execution_count": 7,
     "metadata": {},
     "output_type": "execute_result"
    }
   ],
   "source": [
    "dates[0]"
   ]
  },
  {
   "cell_type": "code",
   "execution_count": 8,
   "metadata": {},
   "outputs": [
    {
     "data": {
      "text/plain": [
       "['FPX1',\n",
       " 'SHCP',\n",
       " 'SPXX',\n",
       " 'SX5P',\n",
       " 'A.CWI',\n",
       " 'A.XUS',\n",
       " 'AUD.',\n",
       " 'BBG.',\n",
       " 'BBG.9',\n",
       " 'BBG.G']"
      ]
     },
     "execution_count": 8,
     "metadata": {},
     "output_type": "execute_result"
    }
   ],
   "source": [
    "df.columns.to_list()[:10]"
   ]
  },
  {
   "cell_type": "code",
   "execution_count": 9,
   "metadata": {},
   "outputs": [],
   "source": [
    "import numpy as np\n",
    "from matplotlib import pyplot as plt\n",
    "from tqdm import tqdm\n",
    "from scripts.fc_means import fc_means_auto_clusters\n",
    "from scripts.k_means import k_means_auto_clusters"
   ]
  },
  {
   "cell_type": "code",
   "execution_count": 10,
   "metadata": {
    "scrolled": true
   },
   "outputs": [
    {
     "name": "stderr",
     "output_type": "stream",
     "text": [
      "100%|█████████████████████████████████████████| 246/246 [02:05<00:00,  1.96it/s]\n"
     ]
    }
   ],
   "source": [
    "k_values = []\n",
    "max_cluster_size = []\n",
    "for win in tqdm(windows):\n",
    "    centers, y, k, s_values = k_means_auto_clusters(win)\n",
    "    k_values.append(k)\n",
    "    \n",
    "    max_size = 0\n",
    "    for c in range(k):\n",
    "        size = sum(y == c)\n",
    "        if size > max_size:\n",
    "            max_size = size\n",
    "    max_cluster_size.append(max_size)"
   ]
  },
  {
   "cell_type": "code",
   "execution_count": 11,
   "metadata": {},
   "outputs": [
    {
     "data": {
      "text/plain": [
       "131.25"
      ]
     },
     "execution_count": 11,
     "metadata": {},
     "output_type": "execute_result"
    }
   ],
   "source": [
    "q1 = np.quantile(max_cluster_size, 0.25)\n",
    "q3 = np.quantile(max_cluster_size, 0.75)\n",
    "iqr = q3 - q1\n",
    "q1"
   ]
  },
  {
   "cell_type": "code",
   "execution_count": 26,
   "metadata": {},
   "outputs": [
    {
     "data": {
      "text/plain": [
       "array(['2000-12-29 00:00:00', '2008-08-22 00:00:00',\n",
       "       '2009-03-19 00:00:00', '2009-04-20 00:00:00'], dtype='<U19')"
      ]
     },
     "execution_count": 26,
     "metadata": {},
     "output_type": "execute_result"
    }
   ],
   "source": [
    "d = np.asarray(dates)\n",
    "m = np.asarray(max_cluster_size)\n",
    "d[m > q3 + 1.5 * iqr].astype(str)"
   ]
  },
  {
   "cell_type": "code",
   "execution_count": 27,
   "metadata": {},
   "outputs": [
    {
     "data": {
      "text/plain": [
       "array(['2011-06-28 00:00:00', '2011-07-27 00:00:00',\n",
       "       '2011-08-25 00:00:00', '2011-09-23 00:00:00',\n",
       "       '2011-10-24 00:00:00', '2011-11-22 00:00:00',\n",
       "       '2012-03-21 00:00:00', '2012-05-21 00:00:00',\n",
       "       '2012-08-16 00:00:00', '2012-09-14 00:00:00',\n",
       "       '2012-10-15 00:00:00'], dtype='<U19')"
      ]
     },
     "execution_count": 27,
     "metadata": {},
     "output_type": "execute_result"
    }
   ],
   "source": [
    "d[m < q1 - 1.5 * iqr].astype(str)"
   ]
  },
  {
   "cell_type": "code",
   "execution_count": 39,
   "metadata": {},
   "outputs": [],
   "source": [
    "with open(\"test.txt\", \"w\") as f:\n",
    "    for date in d[m > q3 + 1.5 * iqr].astype(str):\n",
    "        f.write(date[:10] + \"\\n\")"
   ]
  },
  {
   "cell_type": "code",
   "execution_count": 47,
   "metadata": {},
   "outputs": [
    {
     "data": {
      "image/png": "[encoded data removed]",
      "text/plain": [
       "<Figure size 864x576 with 1 Axes>"
      ]
     },
     "metadata": {
      "needs_background": "light"
     },
     "output_type": "display_data"
    }
   ],
   "source": [
    "plt.figure(figsize=(12,8))\n",
    "\n",
    "plt.title(\"Max cluster size in function of time\")\n",
    "plt.xlabel(\"Date\")\n",
    "plt.ylabel(\"Max cluster size\")\n",
    "plt.plot(dates, max_cluster_size)\n",
    "plt.plot(dates, np.full(len(dates), q3 + 1.5 * iqr), c='r')\n",
    "plt.plot(dates, np.full(len(dates), q1 - 1.5 * iqr), c='r')\n",
    "plt.legend([\"test\"])\n",
    "# plt.savefig(\"images/km_max_63_21.png\")\n",
    "plt.show()"
   ]
  },
  {
   "cell_type": "markdown",
   "metadata": {},
   "source": [
    "Taille cluster : sentiment du marché  \n",
    "Sous stress : peu de cluster volumineux ?\n",
    "\n",
    "Outlier : loi normale, quartiles ?\n",
    "\n",
    "Structure : regroupement des séries  \n",
    "Utiliser une valeur à plot, mesure de qualité (table de contingence)  \n",
    "Pas besoin de taille de cluster identique  \n",
    "comparer cluster t et t+1"
   ]
  },
  {
   "cell_type": "code",
   "execution_count": 12,
   "metadata": {},
   "outputs": [
    {
     "data": {
      "image/png": "[encoded data removed]",
      "text/plain": [
       "<Figure size 864x576 with 1 Axes>"
      ]
     },
     "metadata": {
      "needs_background": "light"
     },
     "output_type": "display_data"
    }
   ],
   "source": [
    "plt.figure(figsize=(12,8))\n",
    "\n",
    "plt.title(\"Number of clusters in function of time\")\n",
    "plt.xlabel(\"Date\")\n",
    "plt.ylabel(\"k\")\n",
    "plt.plot(dates, k_values)\n",
    "# plt.savefig(\"images/km_k_63_21.png\")\n",
    "plt.show()"
   ]
  },
  {
   "cell_type": "code",
   "execution_count": null,
   "metadata": {},
   "outputs": [],
   "source": []
  }
 ],
 "metadata": {
  "interpreter": {
   "hash": "d801ac954d9563d20727c6ef68b437d0c7a568cb54dea638d5545285e753c6f7"
  },
  "kernelspec": {
   "display_name": "Python 3 (ipykernel)",
   "language": "python",
   "name": "python3"
  },
  "language_info": {
   "codemirror_mode": {
    "name": "ipython",
    "version": 3
   },
   "file_extension": ".py",
   "mimetype": "text/x-python",
   "name": "python",
   "nbconvert_exporter": "python",
   "pygments_lexer": "ipython3",
   "version": "3.9.7"
  }
 },
 "nbformat": 4,
 "nbformat_minor": 2
}
